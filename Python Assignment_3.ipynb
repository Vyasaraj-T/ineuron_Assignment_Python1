{
 "cells": [
  {
   "cell_type": "markdown",
   "metadata": {},
   "source": [
    "# Python Assignment_3"
   ]
  },
  {
   "cell_type": "markdown",
   "metadata": {},
   "source": [
    "1. Why are functions advantageous to have in your programs?  \n",
    "\n",
    "Ans: Advantages of functions:  \n",
    "\n",
    "a. Larger program can be divided small groups which helps in readbaility and also in debug  \n",
    "\n",
    "b. reusability of the code reduces duplication and redundancy  \n",
    "\n",
    "c. Improves the clarity of the code  \n",
    "\n",
    "\n"
   ]
  },
  {
   "cell_type": "markdown",
   "metadata": {},
   "source": [
    "2. When does the code in a function run: when it's specified or when it's called?  \n",
    "Ans: When its called"
   ]
  },
  {
   "cell_type": "markdown",
   "metadata": {},
   "source": [
    "3. What statement creates a function?  \n",
    "def func1():  creates function\n",
    "\n",
    " "
   ]
  },
  {
   "cell_type": "markdown",
   "metadata": {},
   "source": [
    "4. What is the difference between a function and a function call?    \n",
    "\n",
    "Ans:  function is a block  of statement which performs specific task and returns result  \n",
    "\n",
    "function call is basically invoking the function by passing the parameters. When a function is called control is passed   \n",
    "      to the function."
   ]
  },
  {
   "cell_type": "markdown",
   "metadata": {},
   "source": [
    "5. How many global scopes are there in a Python program? How many local scopes?   \n",
    "\n",
    "Ans: Global scope- one\n",
    "     Local Scope: based on function call\n",
    "\n",
    "Local Scope: The variable created inside a function, and it is available only to that function, so the scope is local. \n",
    "  Example:  def func():  \n",
    "                    x=100  \n",
    "                    print(x)  \n",
    "     Global Scope: It is the variable created innside the main body of the function and it is available in any scope.\n",
    "    x = 300  \n",
    "    def myfunc():  \n",
    "       print(x)  \n",
    "           \n",
    "\n",
    "myfunc()  \n",
    "\n",
    "print(x)  \n",
    "\n",
    "There is only one Global scope and a local scope is created whenever a function is called."
   ]
  },
  {
   "cell_type": "markdown",
   "metadata": {},
   "source": [
    "#6. What happens to variables in a local scope when the function call returns?  \n",
    "Ans: Local variables are destroyed when function terminates."
   ]
  },
  {
   "cell_type": "markdown",
   "metadata": {},
   "source": [
    "#7. What is the concept of a return value? Is it possible to have a return value in an expression?  \n",
    "Ans:  A return statement consists of the return keyword followed by an optional return value. The return value of a Python   function can be any Python object.  \n",
    "Yes it is possible to have a return value in an expression."
   ]
  },
  {
   "cell_type": "code",
   "execution_count": 2,
   "metadata": {},
   "outputs": [],
   "source": [
    "#8. If a function does not have a return statement, what is the return value of a call to that function?  \n",
    "#Ans: no return value\n",
    "#example: \n",
    "def add(x, y):\n",
    "    (x+y)\n",
    "  \n",
    "add(4,5)"
   ]
  },
  {
   "cell_type": "code",
   "execution_count": 18,
   "metadata": {},
   "outputs": [
    {
     "name": "stdout",
     "output_type": "stream",
     "text": [
      "100\n",
      "100\n",
      "100\n"
     ]
    }
   ],
   "source": [
    "#9 How do you make a function variable refer to the global variable?  \n",
    "#Ans: Function variable has to be declared as global in order to refer it for a global variable.  \n",
    "    #Ex: \n",
    "def my_func():\n",
    "    global x\n",
    "    x=100\n",
    "    print(x)\n",
    "    \n",
    "my_func()\n",
    "a=x\n",
    "print(a)\n",
    "print(x)"
   ]
  },
  {
   "cell_type": "code",
   "execution_count": 19,
   "metadata": {},
   "outputs": [
    {
     "data": {
      "text/plain": [
       "NoneType"
      ]
     },
     "execution_count": 19,
     "metadata": {},
     "output_type": "execute_result"
    }
   ],
   "source": [
    "#10 What is the data type of None?\n",
    "#Ans: NoneType\n",
    "type(None)"
   ]
  },
  {
   "cell_type": "code",
   "execution_count": 20,
   "metadata": {},
   "outputs": [
    {
     "ename": "ModuleNotFoundError",
     "evalue": "No module named 'areallyourpetsnamederic'",
     "output_type": "error",
     "traceback": [
      "\u001b[1;31m---------------------------------------------------------------------------\u001b[0m",
      "\u001b[1;31mModuleNotFoundError\u001b[0m                       Traceback (most recent call last)",
      "\u001b[1;32m<ipython-input-20-84742846c8d7>\u001b[0m in \u001b[0;36m<module>\u001b[1;34m\u001b[0m\n\u001b[0;32m      1\u001b[0m \u001b[1;31m#11. What does the sentence import areallyourpetsnamederic do?\u001b[0m\u001b[1;33m\u001b[0m\u001b[1;33m\u001b[0m\u001b[1;33m\u001b[0m\u001b[0m\n\u001b[1;32m----> 2\u001b[1;33m \u001b[1;32mimport\u001b[0m \u001b[0mareallyourpetsnamederic\u001b[0m\u001b[1;33m\u001b[0m\u001b[1;33m\u001b[0m\u001b[0m\n\u001b[0m",
      "\u001b[1;31mModuleNotFoundError\u001b[0m: No module named 'areallyourpetsnamederic'"
     ]
    }
   ],
   "source": [
    "#11. What does the sentence import areallyourpetsnamederic do?\n",
    "import areallyourpetsnamederic\n",
    "#it has to import a module with name mentioned as such module does not exists it throws a ModuleNotFoundError "
   ]
  },
  {
   "cell_type": "code",
   "execution_count": null,
   "metadata": {},
   "outputs": [],
   "source": [
    "#12. If you had a bacon() feature in a spam module, what would you call it after importing spam?\n",
    "#Ans: import spam\n",
    "#spam.bacon()"
   ]
  },
  {
   "cell_type": "code",
   "execution_count": null,
   "metadata": {},
   "outputs": [],
   "source": [
    "#13. What can you do to save a programme from crashing if it encounters an error?\n",
    "#Ans: We can use try and except\n"
   ]
  },
  {
   "cell_type": "code",
   "execution_count": 23,
   "metadata": {},
   "outputs": [
    {
     "name": "stdout",
     "output_type": "stream",
     "text": [
      "Enter the numerator value5\n",
      "enter the denominator value0\n",
      "You are dividing by zero \n"
     ]
    }
   ],
   "source": [
    "#14. What is the purpose of the try clause? What is the purpose of the except clause?\n",
    "\"\"\"\n",
    "Ans: The try and except block are used for exception handling.\n",
    "    First, the try clause (the statement(s) between the try and except keywords) is executed.\n",
    "    If no exception occurs, the except clause is skipped and execution of the try statement is finished.\n",
    "    If an exception occurs during execution of the try clause, the rest of the clause is skipped. \n",
    "    Then, if its type matches the exception named after the except keyword, the except clause is executed, \n",
    "    and then execution continues after the try/except block.\n",
    "\"\"\"\n",
    "#Ex:\n",
    "def divide(x, y):\n",
    "    try:\n",
    "        # Floor Division : Gives only Fractional Part as Answer\n",
    "        result = x // y\n",
    "        print(\"Your answer is :\", result)\n",
    "    except ZeroDivisionError:\n",
    "        print(\"You are dividing by zero \")\n",
    " \n",
    "# Look at parameters and note the working of Program\n",
    "\n",
    "n1=int(input('Enter the numerator value'))\n",
    "n2=int(input('enter the denominator value'))\n",
    "divide(n1, n2)"
   ]
  },
  {
   "cell_type": "code",
   "execution_count": null,
   "metadata": {},
   "outputs": [],
   "source": []
  }
 ],
 "metadata": {
  "kernelspec": {
   "display_name": "Python 3",
   "language": "python",
   "name": "python3"
  },
  "language_info": {
   "codemirror_mode": {
    "name": "ipython",
    "version": 3
   },
   "file_extension": ".py",
   "mimetype": "text/x-python",
   "name": "python",
   "nbconvert_exporter": "python",
   "pygments_lexer": "ipython3",
   "version": "3.7.3"
  }
 },
 "nbformat": 4,
 "nbformat_minor": 2
}
