{
 "cells": [
  {
   "cell_type": "markdown",
   "metadata": {},
   "source": [
    "# Python Assignment 2\n"
   ]
  },
  {
   "cell_type": "markdown",
   "metadata": {},
   "source": [
    "#1.What are the two values of the Boolean data type? How do you write them?\n",
    "\n",
    "#True and False are the two data types\n",
    "a=1\n",
    "c=0\n",
    "b=100\n",
    "d=200\n",
    "if a==True:\n",
    "    print(b)\n",
    "if c==False:\n",
    "    print(d)"
   ]
  },
  {
   "cell_type": "markdown",
   "metadata": {},
   "source": [
    "##### 2. What are the two values of the Boolean data type? How do you write them?\n",
    "#Ans: and, or, not are the three operators"
   ]
  },
  {
   "cell_type": "markdown",
   "metadata": {},
   "source": [
    "3. Make a list of each Boolean operator's truth tables (i.e. every possible combination of Boolean values for the operator and what it evaluate ).\n",
    "\n",
    "Ans: Let us consider True=1 and False = 0\n",
    "    and operator\n",
    "    0 and 0 0\n",
    "    0 and 1 0\n",
    "    1 and 0 0\n",
    "    1 and 1 1\n",
    "    \n",
    "    or operator\n",
    "    0 or 0 0\n",
    "    0 or 1 1\n",
    "    1 or 0 1\n",
    "    1 or 1 1\n",
    "    \n",
    "    Not operator\n",
    "    not 0=1\n",
    "    not 1=0"
   ]
  },
  {
   "cell_type": "code",
   "execution_count": null,
   "metadata": {},
   "outputs": [],
   "source": [
    "# 4. What are the values of the following expressions?\n",
    "'''\n",
    "(5 > 4) and (3 == 5)  \n",
    "\n",
    "Ans: False  \n",
    "    \n",
    "  not (5 > 4)  \n",
    "\n",
    "  Ans: False  \n",
    "        \n",
    "  (5 > 4) or (3 == 5)  \n",
    "\n",
    "  Ans: True  \n",
    "        \n",
    "  not ((5 > 4) or (3 == 5))  \n",
    "\n",
    "  Ans: False  \n",
    "        \n",
    "  (True and True) and (True == False)  \n",
    "\n",
    "  Ans: False  \n",
    "  \n",
    "  (not False) or (not True)\n",
    "  \n",
    "  Ans: True\n",
    "  \n",
    "'''\n",
    "\n",
    "        \n"
   ]
  },
  {
   "cell_type": "markdown",
   "metadata": {},
   "source": [
    "#5. What are the six comparison operators?  \n",
    "\n",
    "Ans:  ==  Equal to  \n",
    "      <=  greater than or equal to   \n",
    "      >=  less than or equal to   \n",
    "      <   less than   \n",
    "      >   greater than  \n",
    "      !=  not equal  "
   ]
  },
  {
   "cell_type": "code",
   "execution_count": 11,
   "metadata": {},
   "outputs": [
    {
     "name": "stdout",
     "output_type": "stream",
     "text": [
      "True\n",
      "False\n"
     ]
    }
   ],
   "source": [
    "#6. How do you tell the difference between the equal to and assignment operators?\n",
    "#Describe a condition and when you would use one.\n",
    "'''\n",
    "Ans: = Assignment operator\n",
    "    == Equality comparision operator\n",
    "    \n",
    "    a=10 indicates 10 is assigned to variable a\n",
    "    \n",
    "    b==a checks whether b and a or equal or not\n",
    "'''\n",
    "#example\n",
    "a=10\n",
    "b=10\n",
    "c=20\n",
    "print(a==b)\n",
    "print(c==a)\n"
   ]
  },
  {
   "cell_type": "code",
   "execution_count": 12,
   "metadata": {},
   "outputs": [
    {
     "name": "stdout",
     "output_type": "stream",
     "text": [
      "ham\n",
      "spam\n",
      "spam\n"
     ]
    }
   ],
   "source": [
    "#7. Identify the three blocks in this code:\n",
    "spam = 0\n",
    "if spam == 10:\n",
    "    print('eggs') #Block 1\n",
    "if spam > 5:\n",
    "    print('bacon') #Block 2\n",
    "else:\n",
    "    print('ham') #Block 3\n",
    "    print('spam')\n",
    "    print('spam')\n",
    "\"\"\"\n",
    "Three blocks are\n",
    "#Block 1\n",
    "if spam == 10:\n",
    "    print('eggs') \n",
    "   #Block 2  \n",
    "if spam > 5:\n",
    "    print('bacon')\n",
    "  #Block 3  \n",
    "else:\n",
    "    print('ham') \n",
    "    print('spam')\n",
    "    print('spam')\n",
    "\"\"\""
   ]
  },
  {
   "cell_type": "code",
   "execution_count": 17,
   "metadata": {},
   "outputs": [
    {
     "name": "stdout",
     "output_type": "stream",
     "text": [
      "Enter the value to be stored in spam5\n",
      "Greetings\n"
     ]
    }
   ],
   "source": [
    "#8. Write code that prints Hello if 1 is stored in spam, \n",
    "#prints Howdy if 2 is stored in spam, \n",
    "#and prints Greetings! if anything else is stored in spam.\n",
    "\n",
    "spam=int(input('Enter the value to be stored in spam'))\n",
    "if spam==1:\n",
    "    print('Hello')\n",
    "elif spam==2:\n",
    "    print('Howdy')\n",
    "else:\n",
    "    print('Greetings')"
   ]
  },
  {
   "cell_type": "code",
   "execution_count": null,
   "metadata": {},
   "outputs": [],
   "source": [
    "#9.If your programme is stuck in an endless loop, what keys you’ll press?\n",
    "#Ans: CTRL + C"
   ]
  },
  {
   "cell_type": "code",
   "execution_count": 18,
   "metadata": {},
   "outputs": [
    {
     "name": "stdout",
     "output_type": "stream",
     "text": [
      "0\n",
      "1\n",
      "2\n",
      "3\n",
      "4\n",
      "6\n",
      "7\n",
      "8\n"
     ]
    }
   ],
   "source": [
    "#10 How can you tell the difference between break and continue?\n",
    "'''\n",
    "break:  The break statement terminates the loop containing it. \n",
    "        Control of the program flows to the statement immediately after the body of the loop.\n",
    "continue:  The continue statement is used to skip the rest of the code inside a loop for the current iteration only. \n",
    "           Loop does not terminate but continues on with the next iteration.\n",
    "'''\n",
    "#example\n",
    "for i in range(10):\n",
    "    if(i==5):\n",
    "        continue\n",
    "    elif(i==9):\n",
    "        break\n",
    "    else:\n",
    "        print(i)"
   ]
  },
  {
   "cell_type": "code",
   "execution_count": 22,
   "metadata": {},
   "outputs": [
    {
     "name": "stdout",
     "output_type": "stream",
     "text": [
      "range(10) output\n",
      "0\n",
      "1\n",
      "2\n",
      "3\n",
      "4\n",
      "5\n",
      "6\n",
      "7\n",
      "8\n",
      "9\n",
      "range(0,10) output\n",
      "0\n",
      "1\n",
      "2\n",
      "3\n",
      "4\n",
      "5\n",
      "6\n",
      "7\n",
      "8\n",
      "9\n",
      "range(0,10,1) output\n",
      "0\n",
      "1\n",
      "2\n",
      "3\n",
      "4\n",
      "5\n",
      "6\n",
      "7\n",
      "8\n",
      "9\n"
     ]
    }
   ],
   "source": [
    "#11. In a for loop, what is the difference between range(10), range(0, 10), and range(0, 10, 1)?\n",
    "#Ans: no difference\n",
    "\n",
    "print('range(10) output')\n",
    "for i in range(10):\n",
    "    print(i)\n",
    "print('range(0,10) output')\n",
    "for j in range(0, 10):\n",
    "    print(j)\n",
    "print('range(0,10,1) output')\n",
    "for k in range(0, 10,1):\n",
    "    print(k)"
   ]
  },
  {
   "cell_type": "code",
   "execution_count": 23,
   "metadata": {},
   "outputs": [
    {
     "name": "stdout",
     "output_type": "stream",
     "text": [
      "using for loop\n",
      "1\n",
      "2\n",
      "3\n",
      "4\n",
      "5\n",
      "6\n",
      "7\n",
      "8\n",
      "9\n",
      "10\n",
      "--------------\n",
      "using while loop\n",
      "1\n",
      "2\n",
      "3\n",
      "4\n",
      "5\n",
      "6\n",
      "7\n",
      "8\n",
      "9\n",
      "10\n"
     ]
    }
   ],
   "source": [
    "#12. Write a short program that prints the numbers 1 to 10 using a for loop. \n",
    "#Then write an equivalent program that prints the numbers 1 to 10 using a while loop.\n",
    "print('using for loop')\n",
    "for i in range(1,11):\n",
    "    print(i)\n",
    "print('--------------')\n",
    "print('using while loop')\n",
    "j=1\n",
    "while(j<11):\n",
    "    print(j)\n",
    "    j=j+1"
   ]
  },
  {
   "cell_type": "code",
   "execution_count": null,
   "metadata": {},
   "outputs": [],
   "source": [
    "#13. If you had a function named bacon() inside a module named spam, how would you call it after importing spam?\n",
    "\n",
    "#Ans: The function can be called by writing spam.bacon()"
   ]
  }
 ],
 "metadata": {
  "kernelspec": {
   "display_name": "Python 3",
   "language": "python",
   "name": "python3"
  },
  "language_info": {
   "codemirror_mode": {
    "name": "ipython",
    "version": 3
   },
   "file_extension": ".py",
   "mimetype": "text/x-python",
   "name": "python",
   "nbconvert_exporter": "python",
   "pygments_lexer": "ipython3",
   "version": "3.7.3"
  }
 },
 "nbformat": 4,
 "nbformat_minor": 2
}
