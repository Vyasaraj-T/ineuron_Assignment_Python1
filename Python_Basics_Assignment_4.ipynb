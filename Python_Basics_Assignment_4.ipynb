{
 "cells": [
  {
   "cell_type": "markdown",
   "metadata": {},
   "source": [
    "# Python_Basics_Assignment_4"
   ]
  },
  {
   "cell_type": "code",
   "execution_count": 2,
   "metadata": {},
   "outputs": [
    {
     "data": {
      "text/plain": [
       "list"
      ]
     },
     "execution_count": 2,
     "metadata": {},
     "output_type": "execute_result"
    }
   ],
   "source": [
    "#1. What exactly is []?\n",
    "#Ans: It creates an empty list\n",
    "a=[]\n",
    "type(a)"
   ]
  },
  {
   "cell_type": "code",
   "execution_count": 3,
   "metadata": {},
   "outputs": [
    {
     "data": {
      "text/plain": [
       "[2, 4, 'hello', 8, 10]"
      ]
     },
     "execution_count": 3,
     "metadata": {},
     "output_type": "execute_result"
    }
   ],
   "source": [
    "#2. In a list of values stored in a variable called spam, \n",
    "#how would you assign the value 'hello' as the third value? (Assume [2, 4, 6, 8, 10] are in spam.)\n",
    "spam=[2, 4, 6, 8, 10]\n",
    "spam[2]='hello'\n",
    "spam"
   ]
  },
  {
   "cell_type": "code",
   "execution_count": 12,
   "metadata": {},
   "outputs": [
    {
     "data": {
      "text/plain": [
       "'d'"
      ]
     },
     "execution_count": 12,
     "metadata": {},
     "output_type": "execute_result"
    }
   ],
   "source": [
    "#3. What is the value of spam[int(int('3' * 2) / 11)]?\n",
    "spam=['a', 'b', 'c', 'd']\n",
    "spam[int(int('3' * 2) / 11)]\n",
    "#int('3'*2)/11 = 3.0\n",
    "#int(int('3'*2)/11)=3\n",
    "#therefore spam[int(int('3' * 2) / 11)]=spam[3]=d"
   ]
  },
  {
   "cell_type": "code",
   "execution_count": 13,
   "metadata": {},
   "outputs": [
    {
     "data": {
      "text/plain": [
       "'d'"
      ]
     },
     "execution_count": 13,
     "metadata": {},
     "output_type": "execute_result"
    }
   ],
   "source": [
    "#4.What is the value of spam[-1]?\n",
    "#Ans: 'd'\n",
    "spam=['a', 'b', 'c', 'd']\n",
    "spam[-1]"
   ]
  },
  {
   "cell_type": "code",
   "execution_count": 14,
   "metadata": {},
   "outputs": [
    {
     "data": {
      "text/plain": [
       "['a', 'b']"
      ]
     },
     "execution_count": 14,
     "metadata": {},
     "output_type": "execute_result"
    }
   ],
   "source": [
    "#5. What is the value of spam[:2]?\n",
    "#Ans: ['a','b']\n",
    "spam=['a', 'b', 'c', 'd']\n",
    "spam[:2]"
   ]
  },
  {
   "cell_type": "code",
   "execution_count": 20,
   "metadata": {},
   "outputs": [
    {
     "data": {
      "text/plain": [
       "1"
      ]
     },
     "execution_count": 20,
     "metadata": {},
     "output_type": "execute_result"
    }
   ],
   "source": [
    "#bacon=[3.14, 'cat,' 11, 'cat,' True] // This throws syntax error \n",
    "#the proper list is bacon=[3.14, 'cat', 11, 'cat', True]\n",
    "#6. What is the value of bacon.index('cat')?\n",
    "#Ans: 1\n",
    "bacon=[3.14, 'cat', 11, 'cat', True]\n",
    "bacon.index('cat')"
   ]
  },
  {
   "cell_type": "code",
   "execution_count": 22,
   "metadata": {},
   "outputs": [
    {
     "data": {
      "text/plain": [
       "[3.14, 'cat', 11, 'cat', True, 99]"
      ]
     },
     "execution_count": 22,
     "metadata": {},
     "output_type": "execute_result"
    }
   ],
   "source": [
    "#7. How does bacon.append(99) change the look of the list value in bacon?\n",
    "#Ans: It apppends 99 at the end of the last item in the present list\n",
    "bacon=[3.14, 'cat', 11, 'cat', True]\n",
    "bacon.append(99)\n",
    "bacon"
   ]
  },
  {
   "cell_type": "code",
   "execution_count": 24,
   "metadata": {},
   "outputs": [
    {
     "data": {
      "text/plain": [
       "[3.14, 11, 'cat', True]"
      ]
     },
     "execution_count": 24,
     "metadata": {},
     "output_type": "execute_result"
    }
   ],
   "source": [
    "#8. How does bacon.remove('cat') change the look of the list in bacon?\n",
    "#Ans:removes the first occurence of the item from the list\n",
    "bacon=[3.14, 'cat', 11, 'cat', True]\n",
    "bacon.remove('cat')\n",
    "bacon"
   ]
  },
  {
   "cell_type": "code",
   "execution_count": 30,
   "metadata": {},
   "outputs": [
    {
     "name": "stdout",
     "output_type": "stream",
     "text": [
      "['a', 'b', 'c', 'd', 1, 2, 3, 4]\n",
      "['a', 'b', 'c', 'd', 'a', 'b', 'c', 'd']\n"
     ]
    }
   ],
   "source": [
    "#9. What are the list concatenation and list replication operators?\n",
    "#Ans: + is the list concatenation operator and * is replication operator\n",
    "list1=['a','b','c','d']\n",
    "list2=[1,2,3,4]\n",
    "list3=list1+list2\n",
    "print(list3)\n",
    "list4=list1*2\n",
    "print(list4)"
   ]
  },
  {
   "cell_type": "code",
   "execution_count": 35,
   "metadata": {},
   "outputs": [
    {
     "data": {
      "text/plain": [
       "[1, 2, 3, 100, 4, 5]"
      ]
     },
     "execution_count": 35,
     "metadata": {},
     "output_type": "execute_result"
    }
   ],
   "source": [
    "#10 What is difference between the list methods append() and insert()?\n",
    "#Ans: list.append always appends the item at the the end of the list\n",
    "#list.insert()  inserts the item at particular index\n",
    "l2=[1,2,3,4]\n",
    "l2.append(5)\n",
    "l2\n",
    "l2.insert(3,100)\n",
    "l2"
   ]
  },
  {
   "cell_type": "code",
   "execution_count": 43,
   "metadata": {},
   "outputs": [
    {
     "data": {
      "text/plain": [
       "[1, 3, 4, 6, 5, 5, 6, 7, 6, 7, 67]"
      ]
     },
     "execution_count": 43,
     "metadata": {},
     "output_type": "execute_result"
    }
   ],
   "source": [
    "#11. What are the two methods for removing items from a list?\n",
    "#Ans: list.remove(5) removes the first occurence of the item from the list\n",
    "#list.pop(6) removes the item at the given index\n",
    "l3=[1,3,4,5,6,5,5,5,6,7,6,7,67]\n",
    "l3.remove(5)\n",
    "l3\n",
    "l3.pop(6)\n",
    "l3"
   ]
  },
  {
   "cell_type": "markdown",
   "metadata": {},
   "source": [
    "#12. Describe how list values and string values are identical.    \n",
    "\n",
    "Ans: The indexing are same    \n",
    "\n",
    "     Accessing the particular character in a string and particular item from the list are same based on slicing.    \n",
    "     \n",
    "     There are some operations such as concatenation, replication, etc., are similar for both string and list   \n",
    "     \n",
    "     both can be used in for loops"
   ]
  },
  {
   "cell_type": "markdown",
   "metadata": {},
   "source": [
    "#13. What's the difference between tuples and lists?  \n",
    "Ans:  lists are declared using [] ex> [1,2 ,2, 4]  \n",
    "      tuples are declared using () ex> (1,2 ,2, 4)\n",
    "      Lists are mutable and tuples are immutable  \n",
    "      The append() method adds a single item at the end of the list without modifying the original list.\t\n",
    "      An element cannot be added to the tuple as it is immutable.  \n",
    "      \n",
    "     "
   ]
  },
  {
   "cell_type": "code",
   "execution_count": 50,
   "metadata": {},
   "outputs": [
    {
     "data": {
      "text/plain": [
       "42"
      ]
     },
     "execution_count": 50,
     "metadata": {},
     "output_type": "execute_result"
    }
   ],
   "source": [
    "#14. How do you type a tuple value that only contains the integer 42?\n",
    "t1=(42)\n",
    "t1"
   ]
  },
  {
   "cell_type": "code",
   "execution_count": 56,
   "metadata": {},
   "outputs": [
    {
     "name": "stdout",
     "output_type": "stream",
     "text": [
      "[3, 4, 5, 6]\n",
      "<class 'list'>\n",
      "(3, 4, 5, 6)\n",
      "<class 'tuple'>\n",
      "----------------------------\n",
      "('a', 'b', 'c', 'd')\n",
      "<class 'tuple'>\n",
      "['a', 'b', 'c', 'd']\n",
      "<class 'list'>\n"
     ]
    }
   ],
   "source": [
    "#15. How do you get a list value's tuple form? How do you get a tuple value's list form?\n",
    "#list(tupl1) converts tupl1 into a list and tuple(lst1) converts list lst1 into a tuple\n",
    "l1=[3,4,5,6]\n",
    "print(l1)\n",
    "print(type(l1))\n",
    "t1=tuple(l1)\n",
    "print(t1)\n",
    "print(type(t1))\n",
    "print('----------------------------')\n",
    "t2=('a','b','c','d')\n",
    "print(t2)\n",
    "print(type(t2))\n",
    "l2=list(t2)\n",
    "print(l2)\n",
    "print(type(l2))"
   ]
  },
  {
   "cell_type": "code",
   "execution_count": 58,
   "metadata": {},
   "outputs": [
    {
     "data": {
      "text/plain": [
       "[1, 2, 3, 4, ['a', 'b', 'c', 'd']]"
      ]
     },
     "execution_count": 58,
     "metadata": {},
     "output_type": "execute_result"
    }
   ],
   "source": [
    "#16. Variables that \"contain\" list values are not necessarily lists themselves. Instead, what do they contain?\n",
    "#Ans: They are reference to the list values\n",
    "list1=['a','b','c','d']\n",
    "list2=[1,2,3,4,list1]\n",
    "list2"
   ]
  },
  {
   "cell_type": "code",
   "execution_count": 32,
   "metadata": {},
   "outputs": [
    {
     "name": "stdout",
     "output_type": "stream",
     "text": [
      "---for normal list------\n",
      "['a', 'b', 100, 'd']\n",
      "['a', 'b', 'c', 'd']\n",
      "['a', 'b', 'c', 'd']\n",
      "---for nested list------\n",
      "[['a', 'b', 'c', 'd'], [1, 2, 3, 4], [5, 100, 7, 8]]\n",
      "[['a', 'b', 'c', 'd'], [1, 2, 3, 4], [5, 100, 7, 8]]\n",
      "[['a', 'b', 'c', 'd'], [1, 2, 3, 4], [5, 6, 7, 8]]\n"
     ]
    }
   ],
   "source": [
    "#17. How do you distinguish between copy.copy() and copy.deepcopy()?\n",
    "#Ans: If the given list is not a nested one then both  copy.copy() and copy.deepcopy() acts in a same fashion\n",
    "#The difference comes for the case of nested list. The changes made for a list of list does not affect the deep copies list.\n",
    "#where as, if it is a shallo copy it affects.\n",
    "#In Shallow copy, a copy of the original object is stored and only the reference address is finally copied. \n",
    "#In Deep copy, the copy of the original object and the repetitive copies both are stored.\n",
    "import copy\n",
    "list1=['a','b','c','d']\n",
    "lst2=copy.copy(list1)\n",
    "lst3=copy.deepcopy(list1)\n",
    "list1[2]=100\n",
    "print('---for normal list------')\n",
    "print(list1)\n",
    "print(lst2)\n",
    "print(lst3)\n",
    "list4=[['a','b','c','d'],[1,2,3,4],[5,6,7,8]]\n",
    "lst5=copy.copy(list4)\n",
    "lst6=copy.deepcopy(list4)\n",
    "list4[2][1]=100\n",
    "print('---for nested list------')\n",
    "print(list4)\n",
    "print(lst5)\n",
    "print(lst6)"
   ]
  }
 ],
 "metadata": {
  "kernelspec": {
   "display_name": "Python 3",
   "language": "python",
   "name": "python3"
  },
  "language_info": {
   "codemirror_mode": {
    "name": "ipython",
    "version": 3
   },
   "file_extension": ".py",
   "mimetype": "text/x-python",
   "name": "python",
   "nbconvert_exporter": "python",
   "pygments_lexer": "ipython3",
   "version": "3.7.3"
  }
 },
 "nbformat": 4,
 "nbformat_minor": 2
}
