{
 "cells": [
  {
   "cell_type": "markdown",
   "metadata": {},
   "source": [
    "1. In the below elements which of them are values or an expression? eg:- values can be integer or string and expressions will be mathematical operators.\n",
    "\n",
    "\n",
    "Ans: \n",
    "* -----Expression\n",
    "\n",
    "'hello'- Values\n",
    "\n",
    "-87.8---- Value\n",
    "\n",
    "- ---- Operator\n",
    "\n",
    "/ ---- Operator\n",
    "\n",
    "+---- Operator\n",
    "\n",
    "6 -- Value\n"
   ]
  },
  {
   "cell_type": "markdown",
   "metadata": {},
   "source": [
    "2. What is the difference between string and variable?\n",
    "\n",
    "Ans: Variables: These are the symbols which stores the data in a program.\n",
    "\n",
    "     Strings: It is a data type which is a sequence of Unicode characters.\n",
    "    "
   ]
  },
  {
   "cell_type": "markdown",
   "metadata": {},
   "source": [
    "3. Describe three different data types.\n",
    "\n",
    "Ans: The three different data types are \n",
    "\n",
    "Strings- which is a text data type, accepts a single character or sequence of characters.\n",
    "\n",
    "int, float, complex- these are the numeric data types accepts either integer, float or complex data.\n",
    "\n",
    "bool- boolean data type which accepts wither 0 or 1\n",
    "\n",
    "List- []\n",
    "Tuple- ()\n",
    "dict- {}"
   ]
  },
  {
   "cell_type": "markdown",
   "metadata": {},
   "source": [
    "4. What is an expression made up of? What do all expressions do?\n",
    "\n",
    "Ans: The instruction which combines the values and the operators to produce the new value."
   ]
  },
  {
   "cell_type": "markdown",
   "metadata": {},
   "source": [
    "5. This assignment statements, like spam = 10. What is the difference between an expression and a statement?  \n",
    "\n",
    "Ans: Expression is a combination of operators and operands which produces the new value. Statement is an instruction that \n",
    "\n",
    "python interpreter executes.\n",
    "\n"
   ]
  },
  {
   "cell_type": "markdown",
   "metadata": {},
   "source": [
    "After running the following code, what does the variable bacon contain?\n",
    "\n",
    "bacon = 22\n",
    "\n",
    "bacon + 1\n",
    "\n",
    "Ans: It contains 22 only because bacon + 1 is not assigbed to bacon"
   ]
  },
  {
   "cell_type": "markdown",
   "metadata": {},
   "source": [
    "7. What should the values of the following two terms be?\n",
    "\n",
    "'spam' + 'spamspam'\n",
    "\n",
    "o/p: 'spamspamspam'\n",
    "    \n",
    "'spam' * 3\n",
    "\n",
    "o/p: 'spamspamspam'"
   ]
  },
  {
   "cell_type": "markdown",
   "metadata": {},
   "source": [
    "8. Why is eggs a valid variable name while 100 is invalid?\n",
    "\n",
    "Ans: Variable name should start with a alphabet or underscore not with number or special character."
   ]
  },
  {
   "cell_type": "markdown",
   "metadata": {},
   "source": [
    "9. What three functions can be used to get the integer, floating-point number, or string version of a value?\n",
    "\n",
    "int() , float() , and str( ) functions will evaluate to the integer, floating-point number, and string versions of the value passed to them."
   ]
  },
  {
   "cell_type": "code",
   "execution_count": null,
   "metadata": {},
   "outputs": [],
   "source": [
    ". Why does this expression cause an error? How can you fix it?\n",
    "\n",
    "'I have eaten ' + 99 + ' burritos.'\n",
    "\n",
    "Ans: 99 is an integer it cannot be concatenated with strings. Using typecasting it can be fixed."
   ]
  }
 ],
 "metadata": {
  "kernelspec": {
   "display_name": "Python 3",
   "language": "python",
   "name": "python3"
  },
  "language_info": {
   "codemirror_mode": {
    "name": "ipython",
    "version": 3
   },
   "file_extension": ".py",
   "mimetype": "text/x-python",
   "name": "python",
   "nbconvert_exporter": "python",
   "pygments_lexer": "ipython3",
   "version": "3.7.3"
  }
 },
 "nbformat": 4,
 "nbformat_minor": 2
}
